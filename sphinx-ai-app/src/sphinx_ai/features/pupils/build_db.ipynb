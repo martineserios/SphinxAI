{
 "cells": [
  {
   "cell_type": "markdown",
   "metadata": {},
   "source": [
    "### Load packages"
   ]
  },
  {
   "cell_type": "code",
   "execution_count": 19,
   "metadata": {},
   "outputs": [
    {
     "name": "stdout",
     "output_type": "stream",
     "text": [
      "The autoreload extension is already loaded. To reload it, use:\n",
      "  %reload_ext autoreload\n"
     ]
    }
   ],
   "source": [
    "%load_ext autoreload\n",
    "%autoreload 2\n",
    "\n",
    "import duckdb as ddb\n",
    "from pupil_classes import (\n",
    "    Athlete,\n",
    "    Blinks,\n",
    "    Fixations,\n",
    "    FixationsOnSurfaces,\n",
    "    GazePositions,\n",
    "    GazePositionsOnSurfaces,\n",
    "    HeadPosesTracker,\n",
    "    PupilsPositions,\n",
    "    Test,\n",
    "    AimTracker\n",
    ")\n",
    "from datetime import date, datetime\n",
    "\n",
    "\n",
    "DB_LOCATION = \"../../data/pupils/db5.duckdb\""
   ]
  },
  {
   "cell_type": "markdown",
   "metadata": {},
   "source": [
    "### Database session"
   ]
  },
  {
   "cell_type": "code",
   "execution_count": 20,
   "metadata": {},
   "outputs": [],
   "source": [
    "con = ddb.connect(database=DB_LOCATION, read_only=False)"
   ]
  },
  {
   "cell_type": "code",
   "execution_count": 21,
   "metadata": {},
   "outputs": [
    {
     "name": "stdout",
     "output_type": "stream",
     "text": [
      "athlets\n",
      "tests\n",
      "blinks\n",
      "gaze_positions\n",
      "pupils_positions\n",
      "fixations\n",
      "fixations_on_surfaces\n",
      "gaze_positions_on_surfaces\n",
      "head_poses_tracker\n",
      "aim_tracker\n"
     ]
    }
   ],
   "source": [
    "from dataclasses import fields\n",
    "\n",
    "def generate_table_creation_sql() -> str:\n",
    "    table_class_name_map = {\n",
    "        \"Athlete\": \"athlets\",\n",
    "        \"Test\": \"tests\",\n",
    "        \"Blinks\": \"blinks\",\n",
    "        \"GazePositions\": \"gaze_positions\",\n",
    "        \"PupilsPositions\": \"pupils_positions\",\n",
    "        \"Fixations\": \"fixations\",\n",
    "        \"FixationsOnSurfaces\": \"fixations_on_surfaces\",\n",
    "        \"GazePositionsOnSurfaces\": \"gaze_positions_on_surfaces\",\n",
    "        \"HeadPosesTracker\": \"head_poses_tracker\",\n",
    "        \"AimTracker\": \"aim_tracker\"\n",
    "    }\n",
    "\n",
    "    data_classes = [\n",
    "        Athlete,\n",
    "        Test,\n",
    "        Blinks,\n",
    "        GazePositions,\n",
    "        PupilsPositions,\n",
    "        Fixations,\n",
    "        FixationsOnSurfaces,\n",
    "        GazePositionsOnSurfaces,\n",
    "        HeadPosesTracker,\n",
    "        AimTracker\n",
    "    ]\n",
    "\n",
    "    sql_script = \"\"\n",
    "\n",
    "    for data_class in data_classes:\n",
    "        table_name = table_class_name_map[data_class.__name__]\n",
    "        # Get the name of the dataclass\n",
    "        class_name = data_class.__name__\n",
    "\n",
    "        # Get the fields of the dataclass\n",
    "        data_class_fields = fields(data_class)\n",
    "\n",
    "        # Initialize SQL statement\n",
    "        sql_statement = f\"CREATE TABLE {table_name} (\"\n",
    "\n",
    "        # Loop through fields\n",
    "        for field in data_class_fields:\n",
    "            field_name = field.name\n",
    "            field_type = field.type\n",
    "\n",
    "            # Determine SQL type based on Python type\n",
    "            sql_type = \"VARCHAR\"\n",
    "            if field_type == str:\n",
    "                sql_type = \"VARCHAR\"\n",
    "            elif field_type == int:\n",
    "                sql_type = \"INTEGER\"\n",
    "            elif field_type == float:\n",
    "                sql_type = \"FLOAT\"\n",
    "            elif field_type == date:\n",
    "                sql_type = \"DATE\"\n",
    "            elif field_type == datetime:\n",
    "                sql_type = \"TIMESTAMP\"\n",
    "\n",
    "            # Add field to SQL statement\n",
    "            sql_statement += f\"{field_name} {sql_type}, \"\n",
    "\n",
    "        # # Define primary key\n",
    "        # logger.info(table_name)\n",
    "        # if table_name == \"pupil_positions\":\n",
    "        #     sql_statement = f\"{sql_statement[:-2]})\"\n",
    "\n",
    "        # elif table_name == \"head_pose_tracker\":\n",
    "        #     sql_statement += \"PRIMARY KEY (test_id, timestamp))\"\n",
    "\n",
    "        # elif table_name == \"gaze_positions\":\n",
    "        #     sql_statement += \"PRIMARY KEY (test_id, gaze_timestamp))\"\n",
    "\n",
    "        # elif \"fixations_on_surface\" in table_name:\n",
    "        #     sql_statement = f\"{sql_statement[:-2]})\"\n",
    "\n",
    "        # elif \"gaze_positions_on_surface\" in table_name:\n",
    "        #     sql_statement = f\"{sql_statement[:-2]})\"\n",
    "\n",
    "        # elif (table_name == \"fixations\") | (table_name == \"blinks\"):\n",
    "        #     sql_statement += \"PRIMARY KEY (id, test_id, start_timestamp))\"\n",
    "\n",
    "        # elif table_name == \"users\":\n",
    "        #     sql_statement += \"PRIMARY KEY (id))\"\n",
    "\n",
    "        # elif table_name == \"tests\":\n",
    "        #     sql_statement += \"PRIMARY KEY (id, user_id))\"\n",
    "\n",
    "        # sql_script += f\"{sql_statement};\\n\"\n",
    "\n",
    "        # Define primary key\n",
    "\n",
    "        logger.info(table_name)\n",
    "        if table_name == \"pupils_positions\":\n",
    "            sql_statement += \"PRIMARY KEY (test_id, method, eye_id, pupil_timestamp))\"\n",
    "            # sql_statement = f\"{sql_statement[:-2]})\"\n",
    "\n",
    "        elif table_name == \"head_poses_tracker\":\n",
    "            sql_statement += \"PRIMARY KEY (test_id, timestamp))\"\n",
    "            # sql_statement = f\"{sql_statement[:-2]})\"\n",
    "\n",
    "        elif table_name == \"gaze_positions\":\n",
    "            sql_statement += \"PRIMARY KEY (test_id, gaze_timestamp, base_data))\"\n",
    "            # sql_statement = f\"{sql_statement[:-2]})\"\n",
    "\n",
    "        elif \"fixations_on_surfaces\" in table_name:\n",
    "            sql_statement += (\n",
    "                \"PRIMARY KEY (test_id, world_index, start_timestamp, surface))\"\n",
    "            )\n",
    "            # sql_statement = f\"{sql_statement[:-2]})\"\n",
    "\n",
    "        elif \"gaze_positions_on_surfaces\" in table_name:\n",
    "            sql_statement += (\n",
    "                \"PRIMARY KEY (test_id, surface, world_index, gaze_timestamp, confidence))\"\n",
    "            )\n",
    "            # sql_statement = f\"{sql_statement[:-2]})\"\n",
    "\n",
    "        elif (table_name == \"fixations\") | (table_name == \"blinks\"):\n",
    "            sql_statement += \"PRIMARY KEY (test_id, id, start_timestamp))\"\n",
    "            # sql_statement = f\"{sql_statement[:-2]})\"\n",
    "\n",
    "        elif table_name == \"athlets\":\n",
    "            sql_statement += \"PRIMARY KEY (id))\"\n",
    "            # sql_statement = f\"{sql_statement[:-2]})\"\n",
    "\n",
    "        elif table_name == \"tests\":\n",
    "            sql_statement += \"PRIMARY KEY (id, athlete_id))\"\n",
    "            # sql_statement = f\"{sql_statement[:-2]})\"\n",
    "\n",
    "        elif table_name == \"aim_tracker\":\n",
    "            sql_statement += \"PRIMARY KEY (test_id))\"\n",
    "            # sql_statement = f\"{sql_statement[:-2]})\"\n",
    "\n",
    "\n",
    "\n",
    "        sql_script += f\"{sql_statement};\\n\"\n",
    "\n",
    "    return sql_script\n",
    "\n",
    "\n",
    "query = generate_table_creation_sql()"
   ]
  },
  {
   "cell_type": "markdown",
   "metadata": {},
   "source": [
    "### Build Database"
   ]
  },
  {
   "cell_type": "code",
   "execution_count": 22,
   "metadata": {},
   "outputs": [
    {
     "name": "stdout",
     "output_type": "stream",
     "text": [
      "CREATE TABLE athlets (id VARCHAR, name VARCHAR, gender VARCHAR, birth_date VARCHAR, side VARCHAR, height FLOAT, weight FLOAT, discipline VARCHAR, discipline_category VARCHAR, main_position VARCHAR, second_position VARCHAR, club VARCHAR, PRIMARY KEY (id));\n",
      "CREATE TABLE tests (id VARCHAR, athlete_id VARCHAR, category VARCHAR, test_name VARCHAR, variation VARCHAR, test_date TIMESTAMP, test_time TIMESTAMP, upload_datetime TIMESTAMP, duration TIMESTAMP, PRIMARY KEY (id, athlete_id));\n",
      "CREATE TABLE blinks (test_id VARCHAR, id VARCHAR, start_timestamp TIMESTAMP, duration FLOAT, end_timestamp TIMESTAMP, start_frame_index INTEGER, index INTEGER, end_frame_index INTEGER, confidence FLOAT, filter_response VARCHAR, base_data VARCHAR, PRIMARY KEY (test_id, id, start_timestamp));\n",
      "CREATE TABLE gaze_positions (test_id VARCHAR, gaze_timestamp TIMESTAMP, world_index INTEGER, confidence FLOAT, norm_pos_x FLOAT, norm_pos_y FLOAT, base_data VARCHAR, gaze_point_3d_x FLOAT, gaze_point_3d_y FLOAT, gaze_point_3d_z FLOAT, eye_center0_3d_x FLOAT, eye_center0_3d_y FLOAT, eye_center0_3d_z FLOAT, gaze_normal0_x FLOAT, gaze_normal0_y FLOAT, gaze_normal0_z FLOAT, eye_center1_3d_x FLOAT, eye_center1_3d_y FLOAT, eye_center1_3d_z FLOAT, gaze_normal1_x FLOAT, gaze_normal1_y FLOAT, gaze_normal1_z FLOAT, PRIMARY KEY (test_id, gaze_timestamp, base_data));\n",
      "CREATE TABLE pupils_positions (test_id VARCHAR, pupil_timestamp TIMESTAMP, world_index INTEGER, eye_id INTEGER, confidence FLOAT, norm_pos_x FLOAT, norm_pos_y FLOAT, diameter FLOAT, method VARCHAR, ellipse_center_x FLOAT, ellipse_center_y FLOAT, ellipse_axis_a FLOAT, ellipse_axis_b FLOAT, ellipse_angle FLOAT, diameter_3d FLOAT, model_confidence FLOAT, model_id FLOAT, sphere_center_x FLOAT, sphere_center_y FLOAT, sphere_center_z FLOAT, sphere_radius FLOAT, circle_3d_center_x FLOAT, circle_3d_center_y FLOAT, circle_3d_center_z FLOAT, circle_3d_normal_x FLOAT, circle_3d_normal_y FLOAT, circle_3d_normal_z FLOAT, circle_3d_radius FLOAT, theta FLOAT, phi FLOAT, projected_sphere_center_x FLOAT, projected_sphere_center_y FLOAT, projected_sphere_axis_a FLOAT, projected_sphere_axis_b FLOAT, projected_sphere_angle FLOAT, PRIMARY KEY (test_id, method, eye_id, pupil_timestamp));\n",
      "CREATE TABLE fixations (test_id VARCHAR, id VARCHAR, start_timestamp TIMESTAMP, duration FLOAT, start_frame_index INTEGER, end_frame_index INTEGER, norm_pos_x FLOAT, norm_pos_y FLOAT, dispersion FLOAT, confidence FLOAT, method VARCHAR, gaze_point_3d_x FLOAT, gaze_point_3d_y FLOAT, gaze_point_3d_z FLOAT, base_data VARCHAR, PRIMARY KEY (test_id, id, start_timestamp));\n",
      "CREATE TABLE fixations_on_surfaces (test_id VARCHAR, surface VARCHAR, world_timestamp TIMESTAMP, world_index INTEGER, fixation_id INTEGER, start_timestamp TIMESTAMP, duration FLOAT, dispersion FLOAT, norm_pos_x FLOAT, norm_pos_y FLOAT, x_scaled FLOAT, y_scaled FLOAT, on_surf VARCHAR, PRIMARY KEY (test_id, world_index, start_timestamp, surface));\n",
      "CREATE TABLE gaze_positions_on_surfaces (test_id VARCHAR, surface VARCHAR, world_timestamp TIMESTAMP, world_index FLOAT, gaze_timestamp TIMESTAMP, x_norm FLOAT, y_norm FLOAT, x_scaled FLOAT, y_scaled FLOAT, on_surf FLOAT, confidence FLOAT, PRIMARY KEY (test_id, surface, world_index, gaze_timestamp, confidence));\n",
      "CREATE TABLE head_poses_tracker (test_id VARCHAR, timestamp TIMESTAMP, rotation_x FLOAT, rotation_y FLOAT, rotation_z FLOAT, translation_x FLOAT, translation_y FLOAT, translation_z FLOAT, pitch FLOAT, yaw FLOAT, roll FLOAT, PRIMARY KEY (test_id, timestamp));\n",
      "CREATE TABLE aim_tracker (test_id VARCHAR, score FLOAT, PRIMARY KEY (test_id));\n",
      "\n"
     ]
    }
   ],
   "source": [
    "logger.info(query)"
   ]
  },
  {
   "cell_type": "code",
   "execution_count": 23,
   "metadata": {},
   "outputs": [],
   "source": [
    "con.sql(query)\n",
    "con.close()"
   ]
  }
 ],
 "metadata": {
  "kernelspec": {
   "display_name": ".venv",
   "language": "python",
   "name": "python3"
  },
  "language_info": {
   "codemirror_mode": {
    "name": "ipython",
    "version": 3
   },
   "file_extension": ".py",
   "mimetype": "text/x-python",
   "name": "python",
   "nbconvert_exporter": "python",
   "pygments_lexer": "ipython3",
   "version": "3.10.12"
  }
 },
 "nbformat": 4,
 "nbformat_minor": 2
}
