{
 "cells": [
  {
   "cell_type": "markdown",
   "metadata": {},
   "source": [
    "### Load packages"
   ]
  },
  {
   "cell_type": "code",
   "execution_count": 1,
   "metadata": {},
   "outputs": [],
   "source": [
    "import duckdb as ddb\n",
    "import pandas as pd\n",
    "import datetime\n",
    "import json\n",
    "from functools import partial\n",
    "import numpy as np\n",
    "\n",
    "DB_LOCATION = \"/home/martin/Projects/sphinx-ai/data/pupils/db.duckdb\""
   ]
  },
  {
   "cell_type": "markdown",
   "metadata": {},
   "source": [
    "### Database session"
   ]
  },
  {
   "cell_type": "code",
   "execution_count": 2,
   "metadata": {},
   "outputs": [],
   "source": [
    "con = ddb.connect(database=DB_LOCATION, read_only=False)"
   ]
  },
  {
   "cell_type": "markdown",
   "metadata": {},
   "source": [
    "### Query Database"
   ]
  },
  {
   "cell_type": "code",
   "execution_count": 4,
   "metadata": {},
   "outputs": [
    {
     "data": {
      "text/html": [
       "<div>\n",
       "<style scoped>\n",
       "    .dataframe tbody tr th:only-of-type {\n",
       "        vertical-align: middle;\n",
       "    }\n",
       "\n",
       "    .dataframe tbody tr th {\n",
       "        vertical-align: top;\n",
       "    }\n",
       "\n",
       "    .dataframe thead th {\n",
       "        text-align: right;\n",
       "    }\n",
       "</style>\n",
       "<table border=\"1\" class=\"dataframe\">\n",
       "  <thead>\n",
       "    <tr style=\"text-align: right;\">\n",
       "      <th></th>\n",
       "      <th>user_id</th>\n",
       "      <th>name</th>\n",
       "      <th>test_name</th>\n",
       "      <th>test_id</th>\n",
       "      <th>test_date</th>\n",
       "    </tr>\n",
       "  </thead>\n",
       "  <tbody>\n",
       "    <tr>\n",
       "      <th>0</th>\n",
       "      <td>SIABRIBCFHAD</td>\n",
       "      <td>Nico</td>\n",
       "      <td>Ressitencia Ocular</td>\n",
       "      <td>930516d2-20d1-4c7b-95c0-72e2f058820f</td>\n",
       "      <td>14.03.2024</td>\n",
       "    </tr>\n",
       "    <tr>\n",
       "      <th>1</th>\n",
       "      <td>ZMODDNEMSJGC</td>\n",
       "      <td>Nico</td>\n",
       "      <td>Ressitencia Ocular</td>\n",
       "      <td>c2c1cd7a-c32d-419b-94cf-5ddcc4bd9f65</td>\n",
       "      <td>14.03.2024</td>\n",
       "    </tr>\n",
       "  </tbody>\n",
       "</table>\n",
       "</div>"
      ],
      "text/plain": [
       "        user_id  name           test_name  \\\n",
       "0  SIABRIBCFHAD  Nico  Ressitencia Ocular   \n",
       "1  ZMODDNEMSJGC  Nico  Ressitencia Ocular   \n",
       "\n",
       "                                test_id   test_date  \n",
       "0  930516d2-20d1-4c7b-95c0-72e2f058820f  14.03.2024  \n",
       "1  c2c1cd7a-c32d-419b-94cf-5ddcc4bd9f65  14.03.2024  "
      ]
     },
     "execution_count": 4,
     "metadata": {},
     "output_type": "execute_result"
    }
   ],
   "source": [
    "# get tests info\n",
    "con.sql(\n",
    "    \"\"\"\n",
    "    SELECT users.id AS user_id, name, test_name, tests.id AS test_id, test_date \n",
    "    FROM users\n",
    "    JOIN tests\n",
    "        ON users.id == tests.user_id;\n",
    "    \"\"\"\n",
    ").df()"
   ]
  },
  {
   "cell_type": "code",
   "execution_count": 8,
   "metadata": {},
   "outputs": [],
   "source": [
    "class User:\n",
    "    name: str\n",
    "    sports: List\n",
    "    birth_date: str\n",
    "    id: str = field(default_factory=generate_id)\n",
    "\n",
    "\n",
    "@dataclass\n",
    "class Test:\n",
    "    test_name: str\n",
    "    variation: str\n",
    "    user_id: str\n",
    "    reference_date: date\n",
    "    id: str = field(default_factory=generate_id)"
   ]
  },
  {
   "cell_type": "code",
   "execution_count": 9,
   "metadata": {},
   "outputs": [
    {
     "data": {
      "text/html": [
       "<div>\n",
       "<style scoped>\n",
       "    .dataframe tbody tr th:only-of-type {\n",
       "        vertical-align: middle;\n",
       "    }\n",
       "\n",
       "    .dataframe tbody tr th {\n",
       "        vertical-align: top;\n",
       "    }\n",
       "\n",
       "    .dataframe thead th {\n",
       "        text-align: right;\n",
       "    }\n",
       "</style>\n",
       "<table border=\"1\" class=\"dataframe\">\n",
       "  <thead>\n",
       "    <tr style=\"text-align: right;\">\n",
       "      <th></th>\n",
       "      <th>blink_count</th>\n",
       "    </tr>\n",
       "  </thead>\n",
       "  <tbody>\n",
       "    <tr>\n",
       "      <th>0</th>\n",
       "      <td>0.189308</td>\n",
       "    </tr>\n",
       "  </tbody>\n",
       "</table>\n",
       "</div>"
      ],
      "text/plain": [
       "   blink_count\n",
       "0     0.189308"
      ]
     },
     "execution_count": 9,
     "metadata": {},
     "output_type": "execute_result"
    }
   ],
   "source": [
    "test_id = \"ffbce31a-649f-4da9-81b0-8e6c121cae61\"\n",
    "\n",
    "# get mean amount of blinks/10secs\n",
    "con.sql(\n",
    "    f\"\"\"\n",
    "    SELECT AVG(blink_count) AS mean_blink_count\n",
    "    FROM (\n",
    "        SELECT DATE_TRUNC('second', start_timestamp) AS interval_start, COUNT(*) AS blink_count\n",
    "        FROM blinks\n",
    "        WHERE test_id = '{test_id}'\n",
    "        GROUP BY DATE_TRUNC('second', start_timestamp)\n",
    "    ) AS blink_counts;\n",
    "\n",
    "    \"\"\"\n",
    ").df()  # .iloc[:,0].unique()\n",
    "\n",
    "# get total mount of blinks\n",
    "con.sql(\n",
    "    f\"\"\"\n",
    "    SELECT COUNT(id) AS blink_count\n",
    "    FROM blinks\n",
    "    WHERE test_id = '{test_id}'\n",
    "    \"\"\"\n",
    ").df()\n",
    "\n",
    "# get mean blink duration\n",
    "con.sql(\n",
    "    f\"\"\"\n",
    "    SELECT AVG(duration) AS blink_count\n",
    "    FROM blinks\n",
    "    WHERE test_id = '{test_id}'\n",
    "    \"\"\"\n",
    ").df()\n",
    "\n",
    "\n",
    "# get mean blink duration\n",
    "con.sql(\n",
    "    f\"\"\"\n",
    "    SELECT AVG(duration) AS blink_count\n",
    "    FROM blinks\n",
    "    WHERE test_id = '{test_id}'\n",
    "    \"\"\"\n",
    ").df()"
   ]
  },
  {
   "cell_type": "code",
   "execution_count": 6,
   "metadata": {},
   "outputs": [],
   "source": [
    "con.close()"
   ]
  },
  {
   "cell_type": "code",
   "execution_count": null,
   "metadata": {},
   "outputs": [],
   "source": []
  }
 ],
 "metadata": {
  "kernelspec": {
   "display_name": ".venv",
   "language": "python",
   "name": "python3"
  },
  "language_info": {
   "codemirror_mode": {
    "name": "ipython",
    "version": 3
   },
   "file_extension": ".py",
   "mimetype": "text/x-python",
   "name": "python",
   "nbconvert_exporter": "python",
   "pygments_lexer": "ipython3",
   "version": "3.10.12"
  }
 },
 "nbformat": 4,
 "nbformat_minor": 2
}
